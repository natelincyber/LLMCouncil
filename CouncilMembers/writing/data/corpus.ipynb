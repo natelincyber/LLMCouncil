{
 "cells": [
  {
   "cell_type": "code",
   "execution_count": null,
   "metadata": {},
   "outputs": [
    {
     "name": "stderr",
     "output_type": "stream",
     "text": [
      "c:\\Users\\natel\\anaconda3\\envs\\llama\\lib\\site-packages\\tqdm\\auto.py:21: TqdmWarning: IProgress not found. Please update jupyter and ipywidgets. See https://ipywidgets.readthedocs.io/en/stable/user_install.html\n",
      "  from .autonotebook import tqdm as notebook_tqdm\n"
     ]
    }
   ],
   "source": [
    "from datasets import load_dataset\n",
    "import ollama"
   ]
  },
  {
   "cell_type": "code",
   "execution_count": 2,
   "metadata": {},
   "outputs": [
    {
     "name": "stderr",
     "output_type": "stream",
     "text": [
      "C:\\Users\\natel\\.cache\\huggingface\\modules\\datasets_modules\\datasets\\c4\\584d57ebe81c209b6c7f31727066d2c4b4bba37cb7092cdd83083d5ec11207db\\c4.py:53: FutureWarning: Dataset 'c4' is deprecated and will be deleted. Use 'allenai/c4' instead.\n",
      "  warnings.warn(\n"
     ]
    }
   ],
   "source": [
    "# Load C4 in streaming mode\n",
    "c4_streamed = load_dataset(\"c4\", \"en\", split=\"train\", streaming=True)"
   ]
  },
  {
   "cell_type": "code",
   "execution_count": 18,
   "metadata": {},
   "outputs": [],
   "source": [
    "# set up basic sentiment analysis for filtering\n",
    "import requests\n",
    "\n",
    "from ollama import Client\n",
    "client = Client(host='http://localhost:11434')\n",
    "\n",
    "def analyze_sentiment(text):\n",
    "    response = client.chat(model='llama3.2', messages=[\n",
    "        {\n",
    "            'role': 'user',\n",
    "            'content': f\"Analyze the sentiment of the following text (answer only if its formal or informal): \\\"{text}\\\"\",\n",
    "        },\n",
    "    ])\n",
    "    return response['message']"
   ]
  },
  {
   "cell_type": "code",
   "execution_count": 19,
   "metadata": {},
   "outputs": [
    {
     "name": "stdout",
     "output_type": "stream",
     "text": [
      "{'role': 'assistant', 'content': 'Informal'}\n",
      "{'role': 'assistant', 'content': 'The sentiment in this text is informal. The language used is casual, with phrases such as \"But I shouldn\\'t have to do that!!!\", and the tone is conversational, with a sense of frustration and expectation from the author. However, the content itself is technical and provides useful information about a specific issue, suggesting that the author is an expert or enthusiast in their field.'}\n",
      "{'role': 'assistant', 'content': 'Informal'}\n",
      "{'role': 'assistant', 'content': 'This text is informal. It contains colloquial expressions such as \"dude\", and slang phrases like \"spammy type\". The tone is also casual, with questions (\"Wow, dude\") and exclamations (\"How quickly did you rank up?\"). The language used is not typical of formal writing or professional communication.'}\n",
      "{'role': 'assistant', 'content': 'Informal. The text is written in a conversational style, using colloquial expressions (\"We are excited\", \"Denver voters say yes\") and phrases typical of public relations or press releases (e.g., \"Learn more about...\", \"Click to learn more\"). This suggests an informal tone, which is common in educational institutions\\' communications.'}\n",
      "{'role': 'assistant', 'content': 'Informal'}\n"
     ]
    }
   ],
   "source": [
    "for i, entry in enumerate(c4_streamed):\n",
    "    print(analyze_sentiment(entry[\"text\"]))\n",
    "    if i == 5:\n",
    "        break"
   ]
  },
  {
   "cell_type": "code",
   "execution_count": 9,
   "metadata": {},
   "outputs": [
    {
     "name": "stdout",
     "output_type": "stream",
     "text": [
      "membership fees and with many users renewing their accounts, although the overall share of Internet traffic using online dating services in the.S. Enhanced Performance Those who hv performance issues shall not be consuming soya products as it reduces performance Enhanced Performance Agree lucky. One report in China Daily suggests that dating for Chinese university women is \"difficult\" and \"takes work\" and steals time away from academic advancement, and places women in a precarious position of having to balance personal success against traditional Chinese relationships. Having said so, if ur objective is muscle building den u shall not hv * more dan once a week as it will reduce test levels in body and hence achieving goals will be difficult. Dating in North Africa is predominantly done under family supervision, usually in a public place. \"Parents explore dating scene for choosy children\". Dating in Korea is also considered a necessary activity supported by society. Moreover th3 Hon&apos;ble Supreme Court of India has also done a great job by discussing another important point about legalizing prostitution. Somebody is giving tip to them. I have to do it for sure as my * is little thick.\n",
      "21 While some of what happens on a date is guided by an understanding of basic, unspoken rules, there is considerable room to experiment, and there are numerous sources of advice available. In fact, the smarter you are, the more clueless you will be, and the more problems you&apos;re going to have in your dating life. According to a 2007 Centers of Disease Control (CDC) report, approximately 72 percent of 8th and 9th graders report that they are \"dating.\" a b c Sharon Jayson. \"Should I follow any rules?\". \"Can you be beautiful but not superficial?\". 138 Iran has a large population of young people with sixty percent of the 70-million population being under the age of thirty.\n",
      "This topic contains 1 reply, has 2 voices. Last updated by Raam Dev 4 years, 11 months ago.\n",
      "I need a solution for a site I’m developing with S2 Members Pro, the issue is the clients run a chain of shops across the UK and a magazine that is subscribed from all over the world. The client wants its clients to be able to not only sign up online but also in store, the problem is my client will not accept the 0.01p charge on the checkout with a 100% discount code, this is because they feel there customers will not like having to pay online.\n",
      "I know you suggest 2 options on the plugin: 1 being a free registration form but this is open to abuse if the link gets leaked and will also require a lot of moderation on the admin side of things to make sure each sign up actually did join in store. 2 being a free trial, we can set the trial up to last a year but then the checkout will still require a form of payment to start running once the trial period has ended.\n",
      "Is there any solution to this problem? we need it to be as secure as it can without being open to abuse and easy to administrate.\n",
      "What is the best solution for this?\n",
      "Let us know if that answers your question.\n",
      "The ebook makes a speciality of geological historical past because the severe think about making a choice on the current biodiversity and landscapes of Amazonia. the various riding mechanisms for panorama evolution are explored through reviewing the historical past of the Amazonian Craton, the linked sedimentary basins, and the position of mountain uplift and weather swap.\n",
      "This e-book provdes an perception into the Meso- and Cenozoic list of Amazonia that used to be characterised by way of fluvial and long-lived lake platforms and a hugely varied wildlife. This fauna comprises giants akin to the ca. 12 m lengthy caiman Purussaurus, but additionally a diversified fish fauna and fragile molluscs, while fossil pollen and spores shape relics of ancestral swamps and rainforests.\n",
      "With exceptional wit, readability, and intelligence, Richard Dawkins, one of many world&apos;s most famed evolutionary biologists, has brought numerous readers to the wonders of technological know-how in works equivalent to The egocentric Gene. Now, within the Ancestor&apos;s story, Dawkins deals a masterwork: an exciting opposite journey via evolution, from present-day people again to the microbial beginnings of lifestyles 4 billion years in the past.\n",
      "Colonial dwelling is characterised through department of work and finely coordinated association; besides the fact that, many occasions inside of a colony are the results of conflicts among participants trying to maximize their very own pursuits. This interaction of cooperation and clash has raised many questions in evolutionary biology, in particular how cooperative habit is maintained within the absence of direct replica through staff.\n",
      "To this point, the dominant paradigms by which glossy scientists have seen nature were established essentially round Newtonian and Darwinian methods. As theoretical ecologist Robert E. Ulanowicz observes in his new paintings, a 3rd Window, neither of those types is enough for explaining how actual change—in the shape of inventive increase or emergence—takes position in nature.\n",
      "Ecology is in a hard kingdom as a systematic self-discipline. whereas a few theoretical ecologists try to construct a definition of ecology from first rules, many others are wondering even the feasibility of a normal and common thought. even as, it really is more and more vital that ecology is safely and functionally outlined for a iteration of researchers tackling escalating environmental difficulties within the face of doubt and war of words.\n",
      "See Chapter 15). , Chapter 16. (9) Middle Miocene Honda Group (La Venta Fauna), Magdalena Valley. , Chapter 16). Map made by D. Riff and J. van Arkel. et al. argue that in the past 30 Ma well-documented episodes of marine influence in Amazonia are limited to the Miocene. However, there is no evidence for fully established marine corridors (‘seaways’) throughout the South American continent in the Cenozoic. ). Megafans are low-gradient river systems choked by sediments, which force them to continuously change their courses.\n",
      "2004): 11 30 20 10 0 0 500 1000 1500 2000 2500 3000 Age (Ma) 3500 Fig. 2 Histograms for U-Pb ages for 369 grains of detrital zircon collected from the mouth of the Amazon River outlet show peaks in the Archean, Trans-Amazonian and Grenvillian intervals. Pb-Pb ages give similar results. The error bars correspond to 1σ. (After Rino et al. B. F. de Roever are based on Rb-Sr isochrons, which are now no longer thought to reflect the age of crystallization. Santos et al. (2000), on the basis of new U-Pb zircon ages, make a different subdivision.\n",
      "The Itacaiúnas Supergroup in the Carajás Basin itself consists of a lower-grade metamorphic greenstone sequence, the Grão Pará Group, and a higher-grade Salobo Group (Tallarico et al. 2005). 74 Ga, according to SHRIMP zircon U-Pb datings (Trendall et al. 1998; Tallarico et al. 50 Ga. 7 Ga. The Grão Pará Group shows the classic greenstone succession of a mainly metabasaltic unit, locally with conspicuous pillow structures, minor meta-andesites and metarhyolites, followed by the BIF and topped by intermediate to acid metavolcanics and metasediments.\n",
      "I , , , , , 1 ” , , , :0 4 r , , Franka BrunsPost-Gazette CUPBOARD NEARLY BARE Jim Marton strolls through. and includes installation of turnaround lanes for large vehicles. WESTMORELAND COUNTY Man.\n",
      "He upholds his commitment to the health insurance industry through his understanding and fostering of relationships to support the business endeavors of top brokers across the country. ones you.\n",
      "Restaurants in Westmoreland TN (Tennessee), Places To Eat in Westmoreland TN (Tennessee) Menus, Specials & Envents are available for almost all the Restaurants and Places To Eat.\n",
      "Pittsburgh Post-Gazette from Pittsburgh, Pennsylvania · Page 23 Publication: Pittsburgh Post-Gazette i Location: Pittsburgh, Pennsylvania Issue Date: Sunday, March 22, 2015 Page: Page 23 Start Free.\n",
      "He was an avid golfer and lifelong member and past president of Highland Country Club in West View. David (Brenda) Moll, and Cathy Landry; sister of Theresa (Donald) Sheffler, and the late Jennie.\n",
      "She becomes one of four women on the 19-member board and one of seven women business deans of AACSB-accredited business schools in the country. Wayne Rollins. Hara-lenne, Cathy L. Hillyard, Lisa T.\n",
      "Sep FITTS, Mrs. Mildred Louise (Gran Carthage, Tn. Graveltown Community 2 p.m. tomorrow. Mrs. Creighton was a Member of the First Presbyterian Church, Belle Meade Country Club and the James K. Polk.\n",
      "Cathy’s Country Cupboard, Westmoreland TN Opening hours. Cathy’s Country Cupboard is listed as a local restaurant for the following areas. Westmoreland. Near places. More restaurants close to Westmoreland TN. Corner Cafe – Westmoreland. 5234 New Highway 31, Westmoreland, 37186.\n",
      "Dishwashers, they say, allow you to spend more time with the family andor guests; encourage even teenage boys tn stack away glasses instead of littering the kitchen with them; save space (you don’t.\n",
      "Hillsboro, Ohio, and Joseph Shaw of Wilmington, Ohio, have been duly appointed Executors of tn* Estate of James Shaw. evening with Mr. and Mrs. Joe Stroup and son. Jean Duke and Cathy spent Friday.\n",
      "Westmoreland Little League, Westmoreland, Tennessee. 1,192 likes · 19 talking about this. Little League of Westmoreland, Tennessee Offering. Tball.\n",
      "Call (931) 296-4865 or hcchamberbellsouth.net (Neighboring Counties Entries Welcome) TN-0000856166 mm Preston. outstanding hardware), country walnut dovetailed child’s chest of drawers, primitive.\n",
      "Best Restaurants in Westmoreland, TN. Reviews, photos, and menus for places like: Cathy’s Country Cupboard Inc, Laquesadilla Mexican Restaurant, Sonic Drive-In, Hardee’s, Kate’s Garage Bar & Grill, Motown Pizza, Subway Sandwiches, Taco Bell.\n",
      "Companies for \"country cupboard\" Town And Country Bancshares Inc. Salem, MO US. 522110 – Commercial Banking. Canoyer Country Greenhouse And Gift Shop. Griswold, IA US. 444220 – Nursery, Garden Center, and Farm Supply Stores.\n",
      "ROSEN High Ridge Country Club acknowledges with sorrow the passing of our. 2010. daughters Elissa and Cathy. Donations should be sent in memory of Milred Blitz to Boys Town Jerusalem Foundation of.\n",
      "The Tennessean from Nashville, Tennessee · Page 6 Publication: The Tennessean i Location: Nashville, Tennessee Issue Date: Wednesday, November 26, 1997 Page: Page 6 Start Free Trial × Cancel Show Hide.\n",
      "Honor attendants were Cathy Sounder, sister of the bride. is a programmer analyst at the Westmoreland Intermediate Unit. Following a honeymoon in Myrtle Beach, S.C., the couple are residing : in.\n",
      "Shown are Nicole Harris, Jalyn Westmoreland, Hamby, Ellie Campbell and, in front, Georgie Creswell. (Photo: Carol Z. Shane/Shopper News) Patrons can choose one-time-only services or annual memberships.\n",
      "“That is his job. He’s the head law enforcement officer in our country, and he wanted to make sure that our laws are being obeyed.” She added, “He needs to make sure that our citizens are protected in.\n",
      "Nearby schools include Westmoreland Elementary School, Westmoreland High School and Westmoreland Middle School. The closest grocery stores are ATM (BP Family Market), Mike’s Foodland and Houchens IGA. Nearby restaurants include Pep A Roni’s, Cathy’s Country Cupboard.\n",
      "Arrangements by WOODLAWN FUNERAL HOME, 383-4754 Gallatin, TN MARTIN, Allen Palmer House- Age 95. a former member of Brentwood Country Club and Cedar Creek Boat Club. He served in WWII 1943-1945 in.\n",
      "Fast Food near Westmoreland, TN 37186. Fast Food · $ $ $ · open · 2 on Yelp. 5236 Highway 31 E · (615) 644-2355. Cathy’s Country Cupboard.\n",
      "He was proud of his service to his country and always enjoyed sharing his memories of that time. Upon an Honorable Discharge from the Navy, Donnie settled in Indiana and married Cathy Kielman.\n",
      "Onita’s Country Kitchen. Sitoam Missionary Baptist Church; Westmoreland. Alexander Funeral Home in charge. Survivors: sons, Billy, Murfreesboro, and Jerry Thompson, Nashville; daughters, Elaine.\n",
      "Results for Restaurant in Westmoreland, TN. Get free custom quotes, customer reviews, prices, contact details, opening hours from Westmoreland, TN based businesses with Restaurant keyword.\n",
      "Check out these two awesome ladies!!\n",
      "They competed all weekend at the Heart of America CrossFit Competition. Three days of workouts and fun. They did GREAT!!! Very cool to see them compete. More to come on this, once I’ve rested a little.\n",
      "* 2. How was the session?\n",
      "* 4. What would you like to hear?\n",
      "* 5. What's your overall feedback of the sessions/conference?\n"
     ]
    }
   ],
   "source": [
    "for i, example in enumerate(filtered_c4):\n",
    "    print(example['text'])\n",
    "    if i == 5:\n",
    "        break"
   ]
  }
 ],
 "metadata": {
  "kernelspec": {
   "display_name": "llama",
   "language": "python",
   "name": "python3"
  },
  "language_info": {
   "codemirror_mode": {
    "name": "ipython",
    "version": 3
   },
   "file_extension": ".py",
   "mimetype": "text/x-python",
   "name": "python",
   "nbconvert_exporter": "python",
   "pygments_lexer": "ipython3",
   "version": "3.9.20"
  }
 },
 "nbformat": 4,
 "nbformat_minor": 2
}
